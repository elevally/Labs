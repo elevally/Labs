{
 "cells": [
  {
   "cell_type": "markdown",
   "metadata": {},
   "source": [
    "## Eric LeVally\n",
    "### Lab 3"
   ]
  },
  {
   "cell_type": "code",
   "execution_count": 87,
   "metadata": {},
   "outputs": [
    {
     "data": {
      "image/png": "[encoded data removed]",
      "text/plain": [
       "<matplotlib.figure.Figure at 0x779cc50>"
      ]
     },
     "metadata": {},
     "output_type": "display_data"
    }
   ],
   "source": [
    "import math\n",
    "import numpy as np\n",
    "%matplotlib inline\n",
    "from pylab import plot,show,ylim,xlim,xlabel,ylabel\n",
    "import matplotlib.pylab as plt \n",
    "\n",
    "def nuclei_exact(N1,t,lamb):\n",
    "    \n",
    "    '''This function is used to calculate the exact number of radioactive \n",
    "    nuclei of a radioactive substance left after a specific amount of time'''\n",
    "     \n",
    "    N2 = N1*math.exp(-lamb*t)\n",
    "    return N2\n",
    "\n",
    "def nuclei_approx(N1,deltaT,lamb):\n",
    "    \n",
    "    '''This function is used to calculate the approximate number of\n",
    "    radioactive nuclei of a radioactive sample remaining after a \n",
    "    specific amount of time'''\n",
    "    \n",
    "    N2 = -lamb*N1*deltaT+N1\n",
    "    return N2\n",
    "\n",
    "steps = 100\n",
    "N1 = 100\n",
    "lamb = 1\n",
    "N2_exact = np.zeros(100,float)    # Creating arrays and assigning variables\n",
    "N2_approx = np.zeros(100,float)\n",
    "time = np.zeros(100,float)\n",
    "N2_approx[0] = 100\n",
    "N2_exact[0] = 100\n",
    "time[0] = 0\n",
    "t = 0.1\n",
    "deltaT = .1                       # How much time passes between data collection\n",
    "\n",
    "for i in range(1,steps):          # A for loop that generates and stores the data for future plotting\n",
    "    N2 = nuclei_exact(N1,t,lamb)  # Calls the function to perform the caluclutaions\n",
    "    time[i] = t  \n",
    "    t += deltaT                   # Changes the value of t for each calculation\n",
    "    N2_exact[i] = N2              # Stores the value of N2 in the exact array\n",
    "    if N2<=0:\n",
    "        break                     # Causes the loop to stop so that there are no negative values.\n",
    "t = 0\n",
    "\n",
    "for j in range(1,steps):\n",
    "    N2 = nuclei_approx(N1,deltaT,lamb)\n",
    "    t += deltaT\n",
    "    N2_approx[j] = N2\n",
    "    N1 = N2\n",
    "    if N2 <= 0:\n",
    "        break\n",
    "xlabel(\"Time\")\n",
    "ylabel(\"Number of Nuclei\")\n",
    "plt.plot(time,N2_exact)\n",
    "plt.plot(time,N2_approx,\".\")\n",
    "plt.show()"
   ]
  },
  {
   "cell_type": "markdown",
   "metadata": {},
   "source": [
    "This is a graph plotting the exact analytical data for a radioactive substance with a lambda of 1.  The blue line represents the \n",
    "exact analytical data, and the green dots represent the approximate data.  It is clear that the two line up very closely when lamda = 1, N1 = 100, and deltaT = 0.1.  As the deltaT gets larger, the two plots line up less and less.  \n",
    "A).  Anything larger than 0.3 seconds is too great a difference.  If lambda is larger than 1, the lines also will not match up\n",
    "B).  A value of 0.01 for deltaT gives amazing results. If lamda is 0.1 it matches up perfectly."
   ]
  },
  {
   "cell_type": "code",
   "execution_count": 113,
   "metadata": {},
   "outputs": [
    {
     "data": {
      "image/png": "[encoded data removed]",
      "text/plain": [
       "<matplotlib.figure.Figure at 0x74334a8>"
      ]
     },
     "metadata": {},
     "output_type": "display_data"
    }
   ],
   "source": [
    "def nuclei_Nb(lamb_A, lamb_B, N1A, N1B, deltaT):\n",
    "    N2B = (lamb_A*N1A - lamb_B*N1B)*deltaT + N1B\n",
    "    \n",
    "    '''This function is used to calculate the values of N2B.\n",
    "    N2B changes because the NA nuclei decay into NB nuclei.'''\n",
    "\n",
    "    return N2B\n",
    "\n",
    "\n",
    "\n",
    "\n",
    "N2A_approx = np.zeros(100,float)\n",
    "N2B_approx = np.zeros(100,float)\n",
    "lamb_A = 1\n",
    "lamb_B = 1\n",
    "N1A = 100\n",
    "N1B = 0\n",
    "deltaT = 0.1\n",
    "time2 = np.zeros(100,float)\n",
    "N2A_approx[0] = 100\n",
    "N2B_approx[0] = 0\n",
    "time2[0] = 0\n",
    "tA = 0.1\n",
    "deltaT = .1\n",
    "\n",
    "for k in range(1, steps):\n",
    "    N2A = nuclei_approx(N1A,deltaT,lamb_A)\n",
    "    time2[k] = tA  \n",
    "    tA += deltaT\n",
    "    N2A_approx[k] = N2A\n",
    "    N1A = N2A\n",
    "    if N2A <= 0:\n",
    "        break\n",
    "\n",
    "for m in range(1, steps):\n",
    "    N2B = nuclei_Nb(lamb_A, lamb_B, N2A_approx[m], N1B, deltaT)\n",
    "    N2B_approx[m] = N2B\n",
    "    N1B = N2B\n",
    "    if N2B <= 0:\n",
    "        break\n",
    "    \n",
    "        \n",
    "xlabel(\"Time\")\n",
    "ylabel(\"Number of Nuclei\")\n",
    "plt.plot(time2,N2A_approx)\n",
    "plt.plot(time2,N2B_approx)\n",
    "plt.show()"
   ]
  },
  {
   "cell_type": "code",
   "execution_count": null,
   "metadata": {
    "collapsed": true
   },
   "outputs": [],
   "source": []
  }
 ],
 "metadata": {
  "kernelspec": {
   "display_name": "Python 3",
   "language": "python",
   "name": "python3"
  },
  "language_info": {
   "codemirror_mode": {
    "name": "ipython",
    "version": 3
   },
   "file_extension": ".py",
   "mimetype": "text/x-python",
   "name": "python",
   "nbconvert_exporter": "python",
   "pygments_lexer": "ipython3",
   "version": "3.4.5"
  }
 },
 "nbformat": 4,
 "nbformat_minor": 1
}
