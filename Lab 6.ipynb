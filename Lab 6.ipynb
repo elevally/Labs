{
 "cells": [
  {
   "cell_type": "code",
   "execution_count": 23,
   "metadata": {},
   "outputs": [
    {
     "name": "stdout",
     "output_type": "stream",
     "text": [
      "Total rate at which energy is radiated from the :  63113200.02842408\n",
      "The error of this calculation is:  0.025545544574065705\n",
      "The Stefan-Boltzmann constant is:  5.662523934769154e-08\n"
     ]
    }
   ],
   "source": [
    "from scipy import integrate\n",
    "import matplotlib.pylab as plt\n",
    "import math\n",
    "import numpy as np\n",
    "% matplotlib inline\n",
    "\n",
    "# Newman Excercise 5.12\n",
    "\n",
    "def f(x):\n",
    "    return math.exp(-x)*x*x*x/(1-math.exp(-x))  # Had to rearange the equation by mutliplying the numerator and denominator by\n",
    "                                                # e to the -x so that x cubed would not get too larg too quickly.\n",
    "\n",
    "\n",
    "Plancks = 6.62607004*10**-34 # kg m^2 s^-1\n",
    "h_bar = Plancks/(2*math.pi) # kg m^2 s^-1\n",
    "Boltz = 1.38064852*10**-23 # m^2 kg s^-2 K^-1\n",
    "c = 3.00*10**8 # m/s\n",
    "N = 100\n",
    "a = 10**-8\n",
    "b = np.inf\n",
    "T = 5778 # Temperature of the sun in Kelvin\n",
    "    \n",
    "y = []\n",
    "    \n",
    "\n",
    "    \n",
    "constant = ((Boltz**4)*T**4)/(4*(math.pi)**2*c**2*h_bar**3)\n",
    "integral, error = integrate.quad(f, a, b)\n",
    "print(\"Total rate at which energy is radiated from the : \", constant*integral)\n",
    "print(\"The error of this calculation is: \", error*constant)\n",
    "print(\"The Stefan-Boltzmann constant is: \", constant*integral/T**4)"
   ]
  },
  {
   "cell_type": "code",
   "execution_count": null,
   "metadata": {
    "collapsed": true
   },
   "outputs": [],
   "source": []
  }
 ],
 "metadata": {
  "kernelspec": {
   "display_name": "Python 3",
   "language": "python",
   "name": "python3"
  },
  "language_info": {
   "codemirror_mode": {
    "name": "ipython",
    "version": 3
   },
   "file_extension": ".py",
   "mimetype": "text/x-python",
   "name": "python",
   "nbconvert_exporter": "python",
   "pygments_lexer": "ipython3",
   "version": "3.4.5"
  }
 },
 "nbformat": 4,
 "nbformat_minor": 1
}
