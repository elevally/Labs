{
 "cells": [
  {
   "cell_type": "markdown",
   "metadata": {},
   "source": [
    "# Computational Physics Lab 6"
   ]
  },
  {
   "cell_type": "code",
   "execution_count": 32,
   "metadata": {
    "collapsed": true
   },
   "outputs": [],
   "source": [
    "from scipy import integrate\n",
    "import matplotlib.pylab as plt\n",
    "import math\n",
    "import cmath\n",
    "import numpy as np\n",
    "% matplotlib inline"
   ]
  },
  {
   "cell_type": "markdown",
   "metadata": {},
   "source": [
    "## Newman Excercise 5.12"
   ]
  },
  {
   "cell_type": "code",
   "execution_count": 33,
   "metadata": {},
   "outputs": [
    {
     "name": "stdout",
     "output_type": "stream",
     "text": [
      "Total rate at which energy is radiated from the :  63113200.02842408\n",
      "The error of this calculation is:  0.025545544574065705\n",
      "The Stefan-Boltzmann constant is:  5.662523934769154e-08\n"
     ]
    }
   ],
   "source": [
    "def f(x):\n",
    "    return math.exp(-x)*x*x*x/(1-math.exp(-x))  # Had to rearange the equation by mutliplying the numerator and denominator by\n",
    "                                                # e to the -x so that x cubed would not get too larg too quickly.\n",
    "\n",
    "\n",
    "Plancks = 6.62607004*10**-34 # kg m^2 s^-1\n",
    "h_bar = Plancks/(2*math.pi) # kg m^2 s^-1\n",
    "Boltz = 1.38064852*10**-23 # m^2 kg s^-2 K^-1\n",
    "c = 3.00*10**8 # m/s\n",
    "N = 100\n",
    "a = 10**-8\n",
    "b = np.inf\n",
    "T = 5778 # Temperature of the sun in Kelvin\n",
    "\n",
    "\n",
    "constant = ((Boltz**4)*T**4)/(4*(math.pi)**2*c**2*h_bar**3)\n",
    "integral, error = integrate.quad(f, a, b)\n",
    "print(\"Total rate at which energy is radiated from the sun: \", constant*integral)\n",
    "print(\"The error of this calculation is: \", error*constant)\n",
    "print(\"The Stefan-Boltzmann constant is: \", constant*integral/T**4)"
   ]
  },
  {
   "cell_type": "markdown",
   "metadata": {},
   "source": [
    "## Newman Exercise 5.19"
   ]
  },
  {
   "cell_type": "code",
   "execution_count": 78,
   "metadata": {},
   "outputs": [
    {
     "data": {
      "text/plain": [
       "[<matplotlib.lines.Line2D at 0x9e1df28>]"
      ]
     },
     "execution_count": 78,
     "metadata": {},
     "output_type": "execute_result"
    },
    {
     "data": {
      "image/png": "[encoded data removed]",
      "text/plain": [
       "<matplotlib.figure.Figure at 0x966c2e8>"
      ]
     },
     "metadata": {},
     "output_type": "display_data"
    }
   ],
   "source": [
    "def integrand(u,x):\n",
    "    \n",
    "    alpha = math.pi/20e-6 # meters\n",
    "    part1 = math.sqrt(math.sin(alpha*u)**2)\n",
    "    part2 = cmath.exp(1j*2*math.pi*x*u/(lamb*f))\n",
    "    return (part1*part2)\n",
    "    \n",
    "alpha = math.pi/(20e-6) # m^-1   \n",
    "f = 1 # meters\n",
    "#x = 0.1 # meters\n",
    "w = 200e-6 # meters\n",
    "lamb = 500e-9 \n",
    "I = []\n",
    "x_axis = []\n",
    "\n",
    "for x in np.linspace(-0.05,0.05,100):\n",
    "    a = -w/2\n",
    "    b = w/2\n",
    "    N = 100\n",
    "    h = (b-a)/N  \n",
    "    s = (integrand(a,x) + integrand(b,x))\n",
    "    \n",
    "    for k in range(1,N):\n",
    "        if k%2 == 0:\n",
    "            s += 2*(integrand(a+k*h, x))\n",
    "\n",
    "        elif k%2 == 1:\n",
    "            s += 4*(integrand(a+k*h, x))\n",
    "\n",
    "        \n",
    "        s = (h/3)*s\n",
    "        \n",
    "    I.append(abs(s)**2)\n",
    "    x_axis.append(x)\n",
    "    \n",
    "plt.plot(x_axis,I)"
   ]
  },
  {
   "cell_type": "code",
   "execution_count": null,
   "metadata": {
    "collapsed": true
   },
   "outputs": [],
   "source": []
  }
 ],
 "metadata": {
  "kernelspec": {
   "display_name": "Python 3",
   "language": "python",
   "name": "python3"
  },
  "language_info": {
   "codemirror_mode": {
    "name": "ipython",
    "version": 3
   },
   "file_extension": ".py",
   "mimetype": "text/x-python",
   "name": "python",
   "nbconvert_exporter": "python",
   "pygments_lexer": "ipython3",
   "version": "3.4.5"
  }
 },
 "nbformat": 4,
 "nbformat_minor": 1
}
