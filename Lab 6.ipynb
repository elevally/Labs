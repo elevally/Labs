{
 "cells": [
  {
   "cell_type": "markdown",
   "metadata": {},
   "source": [
    "# Computational Physics Lab 6"
   ]
  },
  {
   "cell_type": "code",
   "execution_count": 3,
   "metadata": {
    "collapsed": true
   },
   "outputs": [],
   "source": [
    "from scipy import integrate\n",
    "import matplotlib.pylab as plt\n",
    "import math\n",
    "import cmath\n",
    "import numpy as np\n",
    "% matplotlib inline"
   ]
  },
  {
   "cell_type": "markdown",
   "metadata": {},
   "source": [
    "## Newman Excercise 5.12"
   ]
  },
  {
   "cell_type": "markdown",
   "metadata": {},
   "source": [
    "All matter with temperature greater than absolute zero gives off thermal radiation.  The Planck theory of thermal radiation tells us that a black body of unit area radiates electromagnetically an amount of thermal energy per second.  Newman gives us that this is equal to $I(\\omega),d \\omega$, where $$I(\\omega) = \\frac{\\hbar}{4\\pi^2c^2}  \\frac{\\omega^3}{(e^\\frac{\\hbar \\omega}{k_B T} - 1)}$$\n",
    "Using this information we can find that the total rate at which energy is radiated by a black body per unit area is $$ W = \\frac{k^4_B T^4}{4\\pi^2 c^2 \\hbar^3} \\int_{0}^{\\infty} \\frac{x^3}{e^x -1}$$"
   ]
  },
  {
   "cell_type": "code",
   "execution_count": 4,
   "metadata": {},
   "outputs": [
    {
     "name": "stdout",
     "output_type": "stream",
     "text": [
      "Total rate at which energy is radiated from the sun:  63113200.02842408\n",
      "The error of this calculation is:  0.025545544574065705\n",
      "The Stefan-Boltzmann constant is:  5.662523934769154e-08\n"
     ]
    }
   ],
   "source": [
    "def f(x):\n",
    "    '''This function computes a an equation that is one part in solving for the rate at which energy is radiated from\n",
    "    a large body.\n",
    "    \n",
    "    Input(s):\n",
    "    x = the variable in the integral\n",
    "    \n",
    "    Output(s):\n",
    "    The value of the equation evaluated at x.'''\n",
    "    \n",
    "    return math.exp(-x)*x*x*x/(1-math.exp(-x))  # Had to rearange the equation by mutliplying the numerator and denominator by\n",
    "                                                # e to the -x so that x cubed would not get too larg too quickly.\n",
    "\n",
    "\n",
    "Plancks = 6.62607004*10**-34 # kg m^2 s^-1\n",
    "h_bar = Plancks/(2*math.pi) # kg m^2 s^-1\n",
    "Boltz = 1.38064852*10**-23 # m^2 kg s^-2 K^-1\n",
    "c = 3.00*10**8 # m/s\n",
    "N = 100\n",
    "a = 10**-8\n",
    "b = np.inf\n",
    "T = 5778 # Temperature of the sun in Kelvin\n",
    "\n",
    "\n",
    "constant = ((Boltz**4)*T**4)/(4*(math.pi)**2*c**2*h_bar**3)\n",
    "integral, error = integrate.quad(f, a, b)\n",
    "print(\"Total rate at which energy is radiated from the sun: \", constant*integral)\n",
    "print(\"The error of this calculation is: \", error*constant)\n",
    "print(\"The Stefan-Boltzmann constant is: \", constant*integral/T**4)"
   ]
  },
  {
   "cell_type": "markdown",
   "metadata": {},
   "source": [
    "## Newman Exercise 5.19"
   ]
  },
  {
   "cell_type": "code",
   "execution_count": 13,
   "metadata": {},
   "outputs": [
    {
     "data": {
      "text/plain": [
       "<matplotlib.text.Text at 0x60cd7f0>"
      ]
     },
     "execution_count": 13,
     "metadata": {},
     "output_type": "execute_result"
    },
    {
     "data": {
      "image/png": "[encoded data removed]",
      "text/plain": [
       "<matplotlib.figure.Figure at 0x8e57128>"
      ]
     },
     "metadata": {},
     "output_type": "display_data"
    }
   ],
   "source": [
    "def q(u):\n",
    "    ''' This function calculates and returns the transmission function.\n",
    "    \n",
    "    Input(s):\n",
    "    u = distance from the central axis\n",
    "    \n",
    "    Output(s)\n",
    "    Returns the transmission function at position u'''\n",
    "    alpha = math.pi/2e-5\n",
    "    return (math.sin(alpha*u)**2)\n",
    "\n",
    "def integrand(u,x):\n",
    "    \n",
    "    '''This function computes the intensity of the diffraction pattern produced by a grating with 10 slits.\n",
    "    \n",
    "    Input(s):\n",
    "    u = distance from central axis\n",
    "    x = distance from central axis\n",
    "    \n",
    "    Output(s):\n",
    "    part1 = The calculation of the square root of q(u)\n",
    "    part2 = The calculation of the remaining terms in the integral.'''\n",
    "    \n",
    "    \n",
    "    lamb = 500e-9 \n",
    "    f = 1 # meters\n",
    "    part1 = math.sqrt(q(u))\n",
    "    part2 = cmath.exp(1j*2*math.pi*x*u/(lamb*f))\n",
    "    \n",
    "    return (part1*part2)\n",
    "    \n",
    "\n",
    "w = 2e-4 # meters\n",
    "I = []\n",
    "x_axis = np.linspace(-0.05,0.05,1000)\n",
    "\n",
    "a = -w/2\n",
    "b = w/2\n",
    "N = 1000\n",
    "\n",
    "\n",
    "def simpson(func, x, N, a, b):\n",
    "    '''This function calculates the integral using the Simpson method of approximation.\n",
    "    \n",
    "    Input(s):\n",
    "    func = the function to be integrated\n",
    "    x = the distance from the central axis\n",
    "    N = the number of steps, which must be even when using the Simpson method of approximation\n",
    "    a = the leftmost point of the function to be integrated\n",
    "    b = the rightmost point of the function to be integrated\n",
    "    \n",
    "    Output(s):\n",
    "    s = the final sum of the area under the curve (ie the value of the integral\n",
    "    '''\n",
    "      \n",
    "    h = (b - a)/N\n",
    "    s = func(a, x) + func(b, x)\n",
    "\n",
    "    for i in range (int (N / 2)):\n",
    "        s += 4*func(a + (2*i - 1) * h, x)\n",
    "        s += 2*func(a + 2*i * h, x) \n",
    "            \n",
    "    s = s*h/3\n",
    "    return s\n",
    "\n",
    "for i in x_axis:\n",
    "   \n",
    "    s = (simpson(integrand, i, N, a, b))\n",
    "        \n",
    "    I.append(abs(s)**2)\n",
    "   \n",
    "    \n",
    "plt.plot(x_axis,I)\n",
    "plt.xlabel(\"x values\")\n",
    "plt.ylabel(\"Intensity\")"
   ]
  },
  {
   "cell_type": "markdown",
   "metadata": {},
   "source": [
    "The above plot shows the intensity of light emitted by a diffraction pattern which is produced by a grating with ten slits.  The wavelength of the light is 500 nm.  The light is incident on a diffraction grating with a total width 2e-5 meters.  It has a transmission profile of $q(u) = sin^2(\\alpha u)$.  The light gets diffracted and is focused with a lense with a focal length of 1 meter.  The light then falls on a screen.  The peaks seen in the above graph show where the intensity is greatest.  This is where the light is brightest. These are the points where there is constructive interference between the light sources.  The lowest points on the graph show where there is destructive interference.  These are the darkest spots.  "
   ]
  },
  {
   "cell_type": "code",
   "execution_count": 14,
   "metadata": {},
   "outputs": [
    {
     "data": {
      "text/plain": [
       "<matplotlib.text.Text at 0x60e4710>"
      ]
     },
     "execution_count": 14,
     "metadata": {},
     "output_type": "execute_result"
    },
    {
     "data": {
      "image/png": "[encoded data removed]",
      "text/plain": [
       "<matplotlib.figure.Figure at 0x467fcc0>"
      ]
     },
     "metadata": {},
     "output_type": "display_data"
    }
   ],
   "source": [
    "def q(u):\n",
    "    ''' This function calculates and returns the transmission function.\n",
    "    \n",
    "    Input(s):\n",
    "    u = distance from the central axis\n",
    "\n",
    "    Output(s)\n",
    "    Returns the transmission function at position u'''\n",
    "    \n",
    "    alpha = math.pi/2e-5\n",
    "    \n",
    "    return (math.sin(alpha*u)**2*math.sin(alpha/2*u)**2)\n",
    "\n",
    "I2 = []\n",
    "\n",
    "for i in x_axis:\n",
    "   \n",
    "    s = (simpson(integrand, i, N, a, b))\n",
    "        \n",
    "    I2.append(abs(s)**2)\n",
    "       \n",
    "plt.plot(x_axis,I2)\n",
    "plt.xlabel(\"x values\")\n",
    "plt.ylabel(\"Intensity\")"
   ]
  },
  {
   "cell_type": "markdown",
   "metadata": {},
   "source": [
    "This plot shows the intensity pattern with a different transmission function.  This plot is made with a transmission function of $q(u) = sin^2(\\alpha u)sin^2(\\beta u)$  Other than the change in the transmission function, all other variables were kept the same.  In comparision to the first graph, this graph has a smaller magnitude, and more high points.  In particular, between the +/- 0.02 and 0.04 x points, there are high points in this plot that are not found in the previous one."
   ]
  },
  {
   "cell_type": "code",
   "execution_count": null,
   "metadata": {
    "collapsed": true
   },
   "outputs": [],
   "source": []
  }
 ],
 "metadata": {
  "kernelspec": {
   "display_name": "Python 3",
   "language": "python",
   "name": "python3"
  },
  "language_info": {
   "codemirror_mode": {
    "name": "ipython",
    "version": 3
   },
   "file_extension": ".py",
   "mimetype": "text/x-python",
   "name": "python",
   "nbconvert_exporter": "python",
   "pygments_lexer": "ipython3",
   "version": "3.4.5"
  }
 },
 "nbformat": 4,
 "nbformat_minor": 1
}
