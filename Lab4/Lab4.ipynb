{
 "cells": [
  {
   "cell_type": "markdown",
   "metadata": {},
   "source": [
    "# Lab 4 - Integration Exercises \n",
    "\n",
    "### Grading: \n",
    "We will be doing the cyclic grading cycle for this assignment.  See the complete syllabus - posted on Moodle - some detailed notes on grading and correcting your work.\n",
    "\n",
    "Do your work in this file, so it is easy for me to find/grade.  However, there are good reasons to use multiple files in traditional coding projects, so if you have a good reason to want to make a new file, please talk to me about how to make that work.\n",
    "\n",
    "#### Version-0: \n",
    "Switch back to the Version-0 branch in labs to do this work.  Before you leave lab today, commit your changes to GitHub, and open a pull request, comparing your forked Version-0 branch back to my original repository.  That's all.\n",
    "\n",
    "#### Version-1: \n",
    "By Monday 5:00pm, clean up any unfinished details.  \n",
    "   * Every code should be well documented with comments.\n",
    "   * __Every function should have a docstring.__\n",
    "   * Every graph should be well labeled.  If there is more than one data set or curve, add a legend.\n",
    "   * Describe each graph with a short paragraph.  What is data plotted, why is it interesting, what model fits that data, is this the model you expect?  Give a written scientific description in complete sentences.  Feel free to modify these prompts to suit the particular graph.\n",
    "   * Open a pull request on GitHub comparing your forked Version-1 branch back to my original repository.\n",
    "\n",
    "#### Version-2*: \n",
    "After class on Monday, I will post my solution.  \n",
    "   * Compare our solutions, and look for places you could improve your work \n",
    "     * Are your calculations correct?\n",
    "     * Did you understand (and describe) the physics correctly? \n",
    "     * Did you forget anything?\n",
    "   * Make improvements and comments about your changes.  \n",
    "\n",
    "\\*I called this the Final Version in the syllabus. \n",
    "\n",
    "-----------------------------------------------------------------------------------------------\n",
    "## from Newman w/ modifications and additions\n",
    "-----------------------------------------------------------------------------------------------\n",
    "\n",
    "-----------------------------------------------------------------------------------------------\n",
    "### Newman Exercise 5.1 - original problem.\n",
    "-----------------------------------------------------------------------------------------------\n",
    "In the on-line resources you will find a file called\n",
    "```velocities.txt```, which contains two columns of numbers, the first\n",
    "representing time~$t$ in seconds and the second the $x$-velocity in\n",
    " meters per second of a particle, measured once every second from time\n",
    "$t=0$ to $t=100$.  The first few lines look like this:\n",
    "```python\n",
    "0\t0\n",
    "1\t0.069478\n",
    "2\t0.137694\n",
    "3\t0.204332\n",
    "4\t0.269083\n",
    "5\t0.331656\n",
    "```\n",
    "Write a program to do the following:\n",
    "* Read in the data and, using the trapezoidal rule, calculate from them\n",
    "  the approximate distance traveled by the particle in the $x$ direction as\n",
    "  a function of time.  See Section 2.4.3 on page 57 if you want a reminder\n",
    "  of how to read data from a file.\n",
    "* Extend your program to make a graph that shows, on the same plot,\n",
    "  both the original velocity curve and the distance traveled as a function\n",
    "  of time.\n",
    "  \n",
    "-----------------------------------------------------------------------------------------------\n",
    "### Newman Exercise 5.1 - notes and modifications.\n",
    "-----------------------------------------------------------------------------------------------\n",
    "This problem is funny - you can't use your algorithm for calculating the trapezoid method for a function, you have to do something quite different here - calculate the area of each trapezoid given both its legs.  You also need to store each step in an array, so you can plot the displacement as a function of time.  \n",
    "\n",
    "I recommend you grab a whiteboard and work this out ahead of coding it.\n",
    "\n",
    "Be sure to:\n",
    "1.  Make separate plots for $x$ vs. $t$ and the $v$ vs. $t$ so you can see the details on $v$.\n",
    "2.  Add labels to your plots - as many as needed to clearly convey the physics.\n",
    "3.  Describe your plots physically - be sure to explain the relationship between the $x$ vs. $t$ to the $v$ vs. $t$, so it is clear the numerical integration is a good model for the given velocity data."
   ]
  },
  {
   "cell_type": "code",
   "execution_count": 2,
   "metadata": {},
   "outputs": [
    {
     "name": "stdout",
     "output_type": "stream",
     "text": [
      "8.352839\n"
     ]
    },
    {
     "data": {
      "image/png": "[encoded data removed]",
      "text/plain": [
       "<matplotlib.figure.Figure at 0x7084748>"
      ]
     },
     "metadata": {},
     "output_type": "display_data"
    }
   ],
   "source": [
    "### YOUR Solutions Newman 5.1\n",
    "import integrate \n",
    "import math\n",
    "import numpy as np\n",
    "from numpy import loadtxt,zeros\n",
    "%matplotlib inline\n",
    "from pylab import plot,show,ylim,xlim,xlabel,ylabel\n",
    "import matplotlib.pylab as plt \n",
    "\n",
    "velocityData = np.loadtxt(\"velocities.txt\",float)             #Creating all of the empty lists and arrays that we will need.\n",
    "time = np.zeros(100,float)\n",
    "velocity = np.zeros(100,float)\n",
    "displacement = np.zeros(100,float)\n",
    "\n",
    "N = 100                                                       #Assigning values to variables.\n",
    "va = velocityData[0,1]\n",
    "vb = velocityData[N,1]\n",
    "h = 1\n",
    "\n",
    "s = 0.5*va + 0.5*vb                                           #Running through the first step of the summation.\n",
    "\n",
    "for k in range(1,N):                                          #The rest of the summation is performed in this for loop.\n",
    "    displacement[k] = s\n",
    "    s+=(velocityData[k,1]+velocityData[k+1,1])/2\n",
    "    velocity[k] = velocityData[k,1]\n",
    "\n",
    "#print(h*s)\n",
    "\n",
    "#make the plot\n",
    "\n",
    "fig, (ax1, ax2) = plt.subplots(nrows=2, figsize=(7, 5.6))\n",
    "\n",
    "ax1.plot(displacement)\n",
    "ax1.set_xlabel(\"Time (s)\")\n",
    "ax1.set_ylabel(\"Displacement (m)\")\n",
    "\n",
    "ax2.plot(velocity)\n",
    "ax2.set_xlabel(\"Time (s)\")\n",
    "ax2.set_ylabel(\"Velocity (m/s)\")\n",
    "\n",
    "ax1.set_title(\"Displacement vs. Time\")\n",
    "ax2.set_title(\"Velocity vs. Time\")\n",
    "plt.tight_layout()"
   ]
  },
  {
   "cell_type": "markdown",
   "metadata": {},
   "source": [
    "In the above plots, we shows the displacement vs time and velocity vs time for some uknown object.  The data for the velocity comes from a separate file.  From t = 0 to approximately t = 10, the velocity is slowly increasing.  In the corresponding displacement plot, the displacement is small, but also slowly increasing.  The displacement during this time period is not a straight line, but is concave upwards.  This agrees with the fact that the velocity of a particle is the derivative of its displacement.  At the time t = 20 the velocity reaches a maximum point, and the corresponding displacement plot shows a steep incline at 20 seconds.  At t = 40 seconds the velocity graph reaches 0 m/s, at this same time, the displacement graph reaches its maximum, positive value.  At approximately 65 seconds, there is a large negative velocity, and the displacement has a large negative slope.  "
   ]
  },
  {
   "cell_type": "markdown",
   "metadata": {},
   "source": [
    "-----------------------------------------------------------------------------------------------\n",
    "### Newman Exercise 5.3 - original problem.\n",
    "-----------------------------------------------------------------------------------------------\n",
    "Consider the integral\n",
    "$$\n",
    "E(x) = \\int_0^x e^{-t^2} dt.\n",
    "$$\n",
    "1. Write a program to calculate $E(x)$ for values of $x$ from 0 to 3 in\n",
    "  steps of 0.1.  Choose for yourself what method you will use for\n",
    "  performing the integral and a suitable number of slices.\n",
    "  \n",
    "2. When you are convinced your program is working, extend it further to\n",
    "  make a graph of $E(x)$ as a function of $x$.  If you want to remind\n",
    "  yourself of how to make a graph, you should consult Section 3.1, starting\n",
    "  on page 88.\n",
    "\n",
    "Note that there is no known way to perform this particular integral\n",
    "analytically, so numerical approaches are the only way forward.\n",
    "\n",
    "-----------------------------------------------------------------------------------------------\n",
    "### Newman Exercise 5.3 - notes and modifications.\n",
    "-----------------------------------------------------------------------------------------------\n",
    "\n",
    "The Gaussian integral does have analytic solutions in the limit from $-\\infty$ to $\\infty$.\n",
    "It is a very usefull and famous integrals, and there are many fun ways to work \n",
    "out useful solutions.  For instance: \n",
    "$$\n",
    "\\int_{-\\infty}^{\\infty} e^{-t^2} dt = \\sqrt{\\pi}\n",
    "$$\n",
    "ref: https://en.wikipedia.org/wiki/Gaussian_integral\n",
    "\n",
    "Calculate the Gaussian interval over an even interval (for instance a=-1, b=1) and check that you get the expected result under reasonable numerical approximations.  Check this for several intervals.  Calculate the percent difference between your value and the expected as the interval grows larger.  At when does your integral agree with the exact result within rounding error?  Make a table summarizing your work, and plot of $b$ vs. $error$ to show this.\n",
    "\n",
    "Make a plot of the function $E(x)$ vs. $x$ along with the integral both for Newman's example and the additional question."
   ]
  },
  {
   "cell_type": "code",
   "execution_count": 3,
   "metadata": {},
   "outputs": [
    {
     "data": {
      "text/plain": [
       "'E = np.zeros(30,float)\\nx = np.linspace(0,3, endpoint = True)                           Since I spent a lot of my time banging my head against the desk\\na = 0.0                                                         trying to work with this code so that I could plot the integral  \\nb = 3.0                                                         and the Gaussian, I decided to scrath it and go with the other \\nN = 30                                                          approach of using the integrate function.  Much less code is \\nh = b-a/N                                                       needed for this approach.\\n\\ns = 0.5*func(a) + 0.5*func(b)\\nfor k in range (1,N):\\n    s += func(a+k*h)\\n    E[k] = s\\n    \\nprint(h*s)  \\n\\nf = []\\nfor i in range(len(x)):\\n    f.append(func(x[i]))\\n\\nsteps = int((b-a)/h)\\n\\nInt_ab,x,Fx = integrate.integrate(func,(a,b),steps)\\nfx = np.empty(steps+1)\\n\\nfor i in range(fx.size):\\n    fx[i] = func(x[i])\\n    \\nplt.xlabel(\"x\")\\nplt.plot(x,f,label = \"Gaussian Function\")\\nplt.plot(x,Fx,label=\"Numerical Integral\")\\nplt.ylabel(\"f(x), F(x)\")\\nplt.xlabel(\"x\")\\nplt.legend()\\n\\nprint(\"f =\",f)\\nprint(\"Fx= \",Fx)\\nprint(\"x =\",x)'"
      ]
     },
     "execution_count": 3,
     "metadata": {},
     "output_type": "execute_result"
    },
    {
     "data": {
      "image/png": "[encoded data removed]",
      "text/plain": [
       "<matplotlib.figure.Figure at 0x4334b70>"
      ]
     },
     "metadata": {},
     "output_type": "display_data"
    }
   ],
   "source": [
    "import math\n",
    "import integrate\n",
    "\n",
    "def func(t):\n",
    "    \n",
    "    ''' Calculate the integrand of the Gaussian Integrand\n",
    "    input(s):\n",
    "    t = time\n",
    "    \n",
    "    output(s):\n",
    "    math.e**-(t**2) = the function that we are working with'''\n",
    "    \n",
    "    return math.e**-(t**2)\n",
    "\n",
    "a = 0\n",
    "b = 3\n",
    "N = 30\n",
    "h = b-a/N\n",
    "\n",
    "Int_ab,x,Fx = integrate.integrate(func,(a,b),N)                #This is where we perform the integration of the Gaussian \n",
    "fx = np.empty(N+1)                                             #function using the predefined integrate function.\n",
    "\n",
    "for i in range(fx.size):\n",
    "    fx[i] = func(x[i])\n",
    "    \n",
    "plt.plot(x,fx,label=\"Gaussian Function\")                       #This is where we plot the data we have collected and calculated.\n",
    "plt.plot(x,Fx,label=\"Numerical Integral\")\n",
    "plt.ylabel(\"f(x), F(x)\")\n",
    "plt.xlabel(\"x\")\n",
    "plt.legend()\n",
    "                                                               #Below this point is code that did not quite do what it needed to. \n",
    "'''E = np.zeros(30,float)                                      \n",
    "x = np.linspace(0,3, endpoint = True)                           Since I spent a lot of my time banging my head against the desk\n",
    "a = 0.0                                                         trying to work with this code so that I could plot the integral  \n",
    "b = 3.0                                                         and the Gaussian, I decided to scrath it and go with the other \n",
    "N = 30                                                          approach of using the integrate function.  Much less code is \n",
    "h = b-a/N                                                       needed for this approach.\n",
    "\n",
    "s = 0.5*func(a) + 0.5*func(b)\n",
    "for k in range (1,N):\n",
    "    s += func(a+k*h)\n",
    "    E[k] = s\n",
    "    \n",
    "print(h*s)  \n",
    "\n",
    "f = []\n",
    "for i in range(len(x)):\n",
    "    f.append(func(x[i]))\n",
    "\n",
    "steps = int((b-a)/h)\n",
    "\n",
    "Int_ab,x,Fx = integrate.integrate(func,(a,b),steps)\n",
    "fx = np.empty(steps+1)\n",
    "\n",
    "for i in range(fx.size):\n",
    "    fx[i] = func(x[i])\n",
    "    \n",
    "plt.xlabel(\"x\")\n",
    "plt.plot(x,f,label = \"Gaussian Function\")\n",
    "plt.plot(x,Fx,label=\"Numerical Integral\")\n",
    "plt.ylabel(\"f(x), F(x)\")\n",
    "plt.xlabel(\"x\")\n",
    "plt.legend()\n",
    "\n",
    "print(\"f =\",f)\n",
    "print(\"Fx= \",Fx)\n",
    "print(\"x =\",x)'''"
   ]
  },
  {
   "cell_type": "markdown",
   "metadata": {},
   "source": [
    "The above plot shows the Gaussian Function (the blue line), and its numerical integral (the green line), from 0 to 3.  The integration method used was the Trapezoid rule."
   ]
  },
  {
   "cell_type": "code",
   "execution_count": 4,
   "metadata": {},
   "outputs": [
    {
     "name": "stdout",
     "output_type": "stream",
     "text": [
      "The analytic result is  1.7724538509055159\n",
      "b percent error\n",
      "1 15.729948378865322\n",
      "2 0.46778452046742885\n",
      "3 0.0022093003507323967\n",
      "4 1.542267525452505e-06\n",
      "5 1.5378790080582976e-10\n"
     ]
    },
    {
     "data": {
      "image/png": "[encoded data removed]",
      "text/plain": [
       "<matplotlib.figure.Figure at 0x733b6a0>"
      ]
     },
     "metadata": {},
     "output_type": "display_data"
    }
   ],
   "source": [
    "# Exercise 5.3\n",
    "from pylab import plot,show,ylim,xlim,xlabel,ylabel\n",
    "import math\n",
    "\n",
    "def percent_error(analytic, approx):\n",
    "    \n",
    "    '''This function calculates the percent error between the apporoximate and analytic values.\n",
    "    \n",
    "    input(s): \n",
    "    analytic = the accurate, calculated value\n",
    "    approx = the approximated value\n",
    "    \n",
    "    output(s):\n",
    "    the percent error is what is returned'''\n",
    "    \n",
    "    return (abs(approx -analytic)/analytic*100)\n",
    "\n",
    "def func(t):\n",
    "    \n",
    "    ''' Calculate the integrand of the Gaussian Integrand\n",
    "    input(s):\n",
    "    t = time\n",
    "    \n",
    "    output(s):\n",
    "    math.e**-(t**2) = the function that we are working with'''\n",
    "    \n",
    "    return math.e**-(t**2)\n",
    "\n",
    "def Gaus_integ(a,b):\n",
    "    \n",
    "    '''This function performs an integration of the Guassian function using the Trapezoid Rule,\n",
    "    and finds the percent error of this method.\n",
    "    \n",
    "    input(s):\n",
    "    a = the lower bound of our integral\n",
    "    b = the upper bound of our integral\n",
    "    \n",
    "    output(s):\n",
    "    the percent error between the Trapezoid Rule and our analytic value of the integral.\n",
    "    \n",
    "    '''\n",
    "    E = np.zeros(1000,float)\n",
    "    x = np.linspace(a,b, endpoint = True) \n",
    "    N = 1000\n",
    "    h = (b-a)/N\n",
    "\n",
    "    s = 0.5*func(a) + 0.5*func(b)\n",
    "    for k in range (1,N):\n",
    "        s += func(a+k*h)\n",
    "        E[k] = s\n",
    "    \n",
    "    approx = h*s\n",
    "\n",
    "    analytic = math.sqrt(math.pi) \n",
    "    \n",
    "    #print(b, percent_error(analytic,approx))  \n",
    "    f = []\n",
    "    for i in range(len(x)):\n",
    "        f.append(func(x[i]))\n",
    "\n",
    "    return percent_error(analytic,approx)\n",
    "\n",
    "\n",
    "analytic = math.sqrt(math.pi) \n",
    "M_array = [1,2,3,4,5,10]\n",
    "y_array = []\n",
    "\n",
    "for i in M_array:\n",
    "    y_array.append(Gaus_integ(-i,i))\n",
    "    \n",
    "fig,ax = plt.subplots(figsize=(5, 5.6))\n",
    "plt.plot(M_array, y_array)\n",
    "plt.xlabel(\"b values\")\n",
    "plt.ylabel(\"Percent Error\")\n",
    "plt.title(\"Percent Error vs. B values\")\n",
    "\n",
    "print(\"The analytic result is \", analytic)\n",
    "print(\"b\", \"percent error\")    \n",
    "print(\"1\",Gaus_integ(-1,1))\n",
    "print(\"2\",Gaus_integ(-2,2))\n",
    "print(\"3\",Gaus_integ(-3,3))\n",
    "print(\"4\",Gaus_integ(-4,4))\n",
    "print(\"5\",Gaus_integ(-5,5))"
   ]
  },
  {
   "cell_type": "raw",
   "metadata": {},
   "source": [
    "The plot above shows our analysis of the Gaussian Integral.  We integrated from a i.e.(-b) to b.  The b values are plotted along the x-axis.  For different values of b, we calculated the integral, and found the percent difference between what we got for the varying values of b and the analytic solution.  The percent difference is plotted along the y axis."
   ]
  },
  {
   "cell_type": "markdown",
   "metadata": {},
   "source": [
    "This graph shows the original function from 0 to 3.  It is the bell curve or better known as a Guassian curve.  A Gaussian curve is used to calculate the probability density function of randomly distributed points."
   ]
  },
  {
   "cell_type": "code",
   "execution_count": 5,
   "metadata": {},
   "outputs": [
    {
     "name": "stdout",
     "output_type": "stream",
     "text": [
      "Help on function integrate in module integrate:\n",
      "\n",
      "integrate(f, interval, steps, order=1, float_type=<class 'float'>)\n",
      "    Evaluate integral by Newton-Cotes rule (trapezoidal, Simpson's, etc.).\n",
      "    \n",
      "    f: function to integrate\n",
      "    interval: tuple integration region (a,b)\n",
      "    steps: number of integration steps (must be valid for order chosen)\n",
      "    order (optional): integer order for integration (1..4)\n",
      "    float_type: float type to which each term is converted before addition\n",
      "    \n",
      "    returns:\n",
      "        total_integral (floating point number)\n",
      "        x_array (1D np.array containing independent variable)\n",
      "        I_array (1D np.array containing integrated values)\n",
      "\n",
      "None\n"
     ]
    }
   ],
   "source": [
    "#If you sunk Lab 4 with the original repository,\n",
    "#you'll find the file integrate.py\n",
    "#this is a lesson in how you could write your own functions, store them in a file\n",
    "#and treat that as a file you may import.\n",
    "#notice that I can print the docstring - \n",
    "#you may do this for any python function that has a docstring\n",
    "\n",
    "print(help(integrate.integrate))"
   ]
  },
  {
   "cell_type": "markdown",
   "metadata": {},
   "source": [
    "### Newman Exercise 5.4: The diffraction limit of a telescope\n",
    "\n",
    "Our ability to resolve detail in astronomical observations is\n",
    "limited by the diffraction of light in our telescopes.  Light from stars\n",
    "can be treated effectively as coming from a point source at infinity.  When\n",
    "such light, with wavelength $\\lambda$, passes through the circular aperture\n",
    "of a telescope (which we'll assume to have unit radius) and is focused by\n",
    "the telescope in the focal plane, it produces not a single dot, but a\n",
    "circular diffraction pattern consisting of central spot surrounded by a\n",
    "series of concentric rings.  The intensity of the light in this diffraction\n",
    "pattern is given by\n",
    "$$\n",
    "I(r) = \\biggl( {J_1(kr)\\over kr} \\biggr)^2,\n",
    "$$\n",
    "where $r$ is the distance in the focal plane from the center of the\n",
    "diffraction pattern, $k=2\\pi/\\lambda$, and $J_1(x)$ is a Bessel function.\n",
    "The Bessel functions $J_m(x)$ are given by\n",
    "$$\n",
    "J_m(x) = {1\\over\\pi} \\int_0^\\pi \\cos(m\\theta - x\\sin\\theta) ~d\\theta,\n",
    "$$\n",
    "where $m$ is a nonnegative integer and $x\\ge0$.\n",
    "1. Write a Python function ```J(m,x)``` that calculates the value of\n",
    "  $J_m(x)$ using Simpson's rule with $N=1000$ points.  Use your\n",
    "  function in a program to make a plot, on a single graph, of the Bessel\n",
    "  functions $J_0$, $J_1$, and $J_2$ as a function of $x$ from $x=0$ to\n",
    "  $x=20$.\n",
    "2. Make a second program that makes a density plot of the intensity of\n",
    "   the circular diffraction pattern of a point light source with\n",
    "   $\\lambda=500$ nm, in a square region of the focal plane, using the\n",
    "   formula given above.  Your picture should cover values of $r$ from zero\n",
    "   up to about $1\\,\\mu$m.\n",
    "\n",
    "\n",
    "*Hint 1:* You may find it useful to know that $\\lim_{x\\to0} J_1(x)/x = 1/2$.  \n",
    "\n",
    "*Hint 2:* The central spot in the diffraction pattern is\n",
    "so bright that it may be difficult to see the rings around it on the\n",
    "computer screen.  If you run into this problem a simple way to deal with it\n",
    "is to use one of the other color schemes for density plots described in\n",
    "Section~3.3.  The ``hot`` scheme works well.  For a more\n",
    "sophisticated solution to the problem, the ``imshow`` function has an\n",
    "additional argument ``vmax`` that allows you to set the value that\n",
    "corresponds to the brightest point in the plot.  For instance, if you say\n",
    "``imshow(x,vmax=0.1)``, then elements in ``x`` with value 0.1, or\n",
    "any greater value, will produce the brightest (most positive) color on the\n",
    "screen.  By lowering the ``vmax`` value, you can reduce the total range\n",
    "of values between the minimum and maximum brightness, and hence increase\n",
    "the sensitivity of the plot, making subtle details visible.  (There is also\n",
    "a ``vmin`` argument that can be used to set the value that corresponds\n",
    "to the dimmest (most negative) color.)  For this exercise a value of\n",
    "``vmax=0.01`` appears to work well."
   ]
  },
  {
   "cell_type": "code",
   "execution_count": 6,
   "metadata": {},
   "outputs": [
    {
     "data": {
      "text/plain": [
       "<matplotlib.legend.Legend at 0x749a6a0>"
      ]
     },
     "execution_count": 6,
     "metadata": {},
     "output_type": "execute_result"
    },
    {
     "data": {
      "image/png": "[encoded data removed]",
      "text/plain": [
       "<matplotlib.figure.Figure at 0x749af60>"
      ]
     },
     "metadata": {},
     "output_type": "display_data"
    }
   ],
   "source": [
    "\n",
    "#######################################\n",
    "#Part 1 - plotting the Bessel Function\n",
    "#######################################\n",
    "\n",
    "def J(m,x):\n",
    "    \n",
    "    '''Calculate the Bessel function.  This calculates the bessel function so that it can be \n",
    "    used in the graphs below.\n",
    "    \n",
    "    input(s):\n",
    "    m = our mth Bessel function\n",
    "    x = our range\n",
    "    \n",
    "    output(s):\n",
    "    the integral of our Bessel functions\n",
    "    \n",
    "    '''\n",
    "    a = 0\n",
    "    b = math.pi\n",
    "    \n",
    "    def f_theta(theta):\n",
    "        \n",
    "        '''This performs a calculation using theta to return our function argument.'''\n",
    "        func_arg = 1/math.pi * math.cos(m*theta - x*math.sin(theta))\n",
    "        return func_arg         \n",
    "        \n",
    "    I = integrate.integrate(f_theta,(a,b),N,order=2)[0]\n",
    "    \n",
    "    return I\n",
    "\n",
    "mvals = [0,1,2]\n",
    "x1 = np.linspace(0,20,1000)\n",
    "\n",
    "for m in mvals:\n",
    "    j=np.empty(x1.size)\n",
    "    #print(x1[0])\n",
    "    \n",
    "    #theta = 0\n",
    "    \n",
    "    for i in range(x1.size):\n",
    "        j[i] = J(m,x1[i])\n",
    "    plot(x1,j,label=\"J=%d\"%(m))   \n",
    "\n",
    "plt.legend()"
   ]
  },
  {
   "cell_type": "markdown",
   "metadata": {},
   "source": [
    "The graph above shows the first three mathematical functions known as the Bessel functions.  They appear to be damped, sinusoidal functions."
   ]
  },
  {
   "cell_type": "code",
   "execution_count": 22,
   "metadata": {},
   "outputs": [
    {
     "data": {
      "image/png": "[encoded data removed]",
      "text/plain": [
       "<matplotlib.figure.Figure at 0x76f1940>"
      ]
     },
     "metadata": {},
     "output_type": "display_data"
    }
   ],
   "source": [
    "\n",
    "#########\n",
    "#Part 2 - plotting the diffraction pattern\n",
    "#########\n",
    "from pylab import imshow\n",
    "lambda1 = 500e-9          #500 nm\n",
    "k = 2.0*math.pi/lambda1   \n",
    "x_max=1e-6                #1 micron - make this the the approximate scale of your problem\n",
    "\n",
    "N = 100\n",
    "\n",
    "xy_grid = np.empty([N,N],float)\n",
    "x_array = np.linspace(-x_max,x_max,N)\n",
    "y_array = np.linspace(-x_max,x_max,N)\n",
    "\n",
    "for i in range(len(x_array)):\n",
    "    x = x_array[i]          \n",
    "    \n",
    "    for j in range(len(y_array)):\n",
    "        y = y_array[j]\n",
    "        r = math.sqrt(y**2+x**2)\n",
    "        if abs(r)<1e-9:\n",
    "            \n",
    "            xy_grid[i][j] = 0.5\n",
    "        \n",
    "        else:\n",
    "            xy_grid[i][j] = ( J(1,k*r)/(k*r) )**2\n",
    "        \n",
    "        \n",
    "imshow(xy_grid)\n",
    "plt.hot()"
   ]
  },
  {
   "cell_type": "markdown",
   "metadata": {},
   "source": [
    "This is a density plot.  It shows the intensity of the circular diffraction pattern of a point light source with lambda equalling 500 nanometers.  When light passes through a telescope, it is diffracted and a single point light source can be distorted into looking like the above graph.  The edges of the lens cause the light wave coming in to create low values.  When low values interact with low values, we get lower values (yellow spots) when high values interact with high values, we get higher values (dark red spots).  This is called constructive interference.  When they cancel, which is destructive interference, we get the nearly black spots.  We get the bright spot in the middle becuase this light is acting as if it was unchanged by the lens of the telescope."
   ]
  }
 ],
 "metadata": {
  "kernelspec": {
   "display_name": "Python 3",
   "language": "python",
   "name": "python3"
  },
  "language_info": {
   "codemirror_mode": {
    "name": "ipython",
    "version": 3
   },
   "file_extension": ".py",
   "mimetype": "text/x-python",
   "name": "python",
   "nbconvert_exporter": "python",
   "pygments_lexer": "ipython3",
   "version": "3.4.5"
  }
 },
 "nbformat": 4,
 "nbformat_minor": 2
}
