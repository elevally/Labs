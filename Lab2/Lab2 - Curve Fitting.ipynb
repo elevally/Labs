{
 "cells": [
  {
   "cell_type": "markdown",
   "metadata": {},
   "source": [
    "# Lab 2 - Intro to Curve Fitting (Scipy/Numpy) and Plotting (Matplotlib)\n",
    "\n",
    "##  The Photoelectric Effect and Projectile Motion\n",
    "------------------------------------------------------------------------------------------------\n",
    "\n",
    "### GitHub:\n",
    "\n",
    "* Fork the Lab repository to your personal GitHub page.\n",
    "* Sign into GitHub desktop (using options in the gearwheel) - open the Git Bash shell\n",
    "* Clone/download the repository to your own directory\n",
    "* Make a new branch, call it Version-0, this is where you will do your work - I am just learning how important this is!!!\n",
    "* Save your work to the local machine regularly.\n",
    "* Commit your work on this branch to GitHub regularly - you don't have to wait until the end of class.\n",
    "* Remember to make additional branches (Version-1 and Version-2) following each pull request (see below).\n",
    "\n",
    "### Grading: \n",
    "Recall we will be doing the cyclic grading cycle for this assignment.  See the complete syllabus - posted on Moodle - some detailed notes on grading and correcting your work.\n",
    "\n",
    "Do your work in this file, so it is easy for me to find/grade.  However, there are good reasons to use multiple files in traditional coding projects, so if you have a good reason to want to make a new file, please talk to me about how to make that work.\n",
    "\n",
    "#### Version-0: \n",
    "Before you leave lab today, commit your changes to GitHub, and open a pull request, comparing your forked Version-0 branch back to my original repository.  That's all.\n",
    "\n",
    "#### Version-1: \n",
    "By Monday 9:15am, clean up any unfinished details.  \n",
    "   * Every code should be well documented with comments.\n",
    "   * Every graph should be well labeled.  If there is more than one data set or curve, add a legend.\n",
    "   * Describe each graph with a short paragraph.  What is data plotted, why is it interesting, what model fits that data, is this the model you expect?  Give a written scientific description in complete sentences.\n",
    "   * Open a pull request on GitHub comparing your forked Version-1 branch back to my original repository.\n",
    "\n",
    "#### Version-2*: \n",
    "After class on Monday, I will post my solution.  \n",
    "   * Compare our solutions, and look for places you could improve your work \n",
    "     * Are your calculations correct?\n",
    "     * Did you understand (and describe) the physics correctly? \n",
    "     * Did you forget anything?\n",
    "   * Make improvements and comments about your changes.  \n",
    "\n",
    "\\*I called this the Final Version in the syllabus.   "
   ]
  },
  {
   "cell_type": "code",
   "execution_count": 5,
   "metadata": {
    "collapsed": true
   },
   "outputs": [],
   "source": [
    "#how to load in plotting to a Jupyter Notebook\n",
    "import matplotlib.pyplot as plt\n",
    "import numpy as np\n",
    "%matplotlib inline"
   ]
  },
  {
   "cell_type": "code",
   "execution_count": null,
   "metadata": {
    "collapsed": true
   },
   "outputs": [],
   "source": [
    "#A note on functions and array arithmetic - \n",
    "#several of you have noticed problems using the math module functions on numpy arrays.\n",
    "#To avoid this problem, use the numpy versions of the functions.  \n",
    "#For example:\n",
    "import math\n",
    "x=math.pi\n",
    "print(math.sin(x))  #works great - notice what you get - what should you get ? (this is a preview for Ch 4)\n",
    "\n",
    "x_array = math.pi*np.ones(4) #works fine\n",
    "print(x_array)                #works fine\n",
    "#print(math.sin(x_array))     #error\n",
    "print(np.sin(x_array))        #works fine"
   ]
  },
  {
   "cell_type": "markdown",
   "metadata": {},
   "source": [
    "## Part 1: Fitting Millikan's Data w/ Least Squares Method \n",
    "\n",
    "Discuss your algorithm with your lab partner.  Since you'll be writing your own code today, you are welcome to disagree on the details.  On your own computer, code it up, following my suggestions from the pre-lab.  As you produce results, use markdown cells to present and describe your work.  *For example add a markdown cell to: describe the plotted data, comment on how good the fit appears, and how it relates to Einstein's model, the percent difference, etc.*\n",
    "\n",
    "### Your solution to Part 1:\n",
    "------------------------------------------------------------------------------------------------------------------"
   ]
  },
  {
   "cell_type": "code",
   "execution_count": 43,
   "metadata": {},
   "outputs": [
    {
     "name": "stdout",
     "output_type": "stream",
     "text": [
      "m =  4.08822735852e-15\n",
      "c =  -1.73123580398\n"
     ]
    },
    {
     "data": {
      "image/png": "[encoded data removed]",
      "text/plain": [
       "<matplotlib.figure.Figure at 0x7b2aa90>"
      ]
     },
     "metadata": {},
     "output_type": "display_data"
    },
    {
     "name": "stdout",
     "output_type": "stream",
     "text": [
      "h =  6.6229283208e-34\n",
      "The percent difference between the model and the accepted value of Planck's constant is:  0.0474139150605 %\n"
     ]
    }
   ],
   "source": [
    "import pylab, math\n",
    "import numpy as np\n",
    "import matplotlib.pylab as plt \n",
    "%matplotlib inline\n",
    "\n",
    "data = np.loadtxt(\"millikan.txt\",float)\n",
    "x = data[:,0]\n",
    "y = data[:,1]\n",
    "Ex = 0\n",
    "Ey = 0\n",
    "Exx = 0\n",
    "Exy = 0\n",
    "N = x.size #I expect this to be 6 because that is the number of rows in the data file.\n",
    "for i in range (N):\n",
    "\n",
    "    Ex = Ex + x[i] # The array x has all x values and by setting Ex = to Ex + x[i], Ex becomes the summation of all values \n",
    "    Ey = Ey + y[i] # in the array x.  This also works for the Ey, Exy and Exx.\n",
    "    Exx = Exx + (x[i])**2\n",
    "    Exy = Exy + (x[i]*y[i])\n",
    "    \n",
    "Ex = 1/N *Ex # Do this to normalise after completing the summation.\n",
    "Ey = 1/N *Ey\n",
    "Exx = 1/N *Exx\n",
    "Exy = 1/N *Exy\n",
    "\n",
    "\n",
    "m = (Exy - Ex*Ey)/(Exx - Ex**2)\n",
    "c = (Exx*Ey - Ex*Exy)/(Exx - Ex**2)\n",
    "print(\"m = \",m)\n",
    "print(\"c = \",c)\n",
    "\n",
    "y_model = np.empty(N, float) #This is an empty list, NOT AN ARRAY\n",
    "\n",
    "for i in range (N):\n",
    "    y_model[i] = m*x[i] + c\n",
    "plt.xlabel(\"frequency (hertz)\")\n",
    "plt.ylabel(\"Voltage (V)\")\n",
    "plt.plot(x, y_model, \"y\") #The solid line\n",
    "plt.plot(x,y, \"go\")  # The dots\n",
    "plt.show()\n",
    "\n",
    "e = 1.62*10**-19\n",
    "h = m * e\n",
    "planck_constant = 6.62607*10**(-34)\n",
    "print(\"h = \",h)\n",
    "percent_dif =100 - h/planck_constant*100\n",
    "print(\"The percent difference between the model and the accepted value of Planck's constant is: \", percent_dif, \"%\")"
   ]
  },
  {
   "cell_type": "markdown",
   "metadata": {},
   "source": [
    "## Part 2: Curve Fitting Tutorial:\n",
    "Open the Jupyter Notebook CurveFit.ipynb and work through the plots and exercises.  It is a very complete set of information that you should remember to consult for this and other classes.  No need to memorize all of the functions.\n",
    "\n",
    "You may want to read Part 3 (below) and jump back and forth between the tutorial and applying each step to Millikan's data.\n",
    "\n",
    "### Submit nothing for this section - However this is a dense document - ask a lot of questions and add comments to the document to help you reuse the functions as you go.  \n",
    "-----------------------------------------------------------------------------------------------"
   ]
  },
  {
   "cell_type": "markdown",
   "metadata": {},
   "source": [
    "## Part 3: Fitting Millikan's Data \n",
    "Use your new found knowledge from the Curve Fitting Tutorial to fit Millikan's Data with the various fitting routines in the tutorial.  Since it is linear data, it is a great test case to get you started.  Try three cases:\n",
    "    * polynomial fits\n",
    "    * linear regression (from the mathematical library scipy)\n",
    "    * curve fits - even though your data fits a straight line, it is worth trying\n",
    "\n",
    "To distinguish your new fits from those in part 1, give your new fit coefficients names that match the fit type.  For instance, back in Part 1, I named my coefficients ```m``` and ```b```.  In this section, I named my polynomial fit coefficients ```m_poly```, ```b_poly```.\n",
    "\n",
    "### Your solution to Part 3:\n",
    "-----------------------------------------------------------------------------------------------"
   ]
  },
  {
   "cell_type": "markdown",
   "metadata": {},
   "source": [
    "### Polynomial Fits"
   ]
  },
  {
   "cell_type": "code",
   "execution_count": 56,
   "metadata": {},
   "outputs": [
    {
     "data": {
      "text/plain": [
       "[<matplotlib.lines.Line2D at 0x7af3780>]"
      ]
     },
     "execution_count": 56,
     "metadata": {},
     "output_type": "execute_result"
    },
    {
     "data": {
      "image/png": "[encoded data removed]",
      "text/plain": [
       "<matplotlib.figure.Figure at 0x961a320>"
      ]
     },
     "metadata": {},
     "output_type": "display_data"
    }
   ],
   "source": [
    "fit, cov = np.polyfit(x, y, 1,cov=True)\n",
    "\n",
    "m_poly = fit[0] # Unpacks the array fit\n",
    "y_intercept_poly = fit[1]\n",
    "\n",
    "dm_poly = np.sqrt(cov[0,0]) # Uncertainty in slope\n",
    "dy_intercept_poly = np.sqrt(cov[1,1]) # Uncertainty in y-intercept\n",
    "\n",
    "# Plot of original data\n",
    "plt.plot(x,y,\".\")\n",
    "\n",
    "# Polynomial fit with uncertainties\n",
    "plt.plot(x,(m_poly+dm_poly)*x + y_intercept_poly,\"y\") #(x value, mx +b, color)\n",
    "plt.plot(x,(m_poly-dm_poly)*x + y_intercept_poly,\"r\")\n",
    "plt.plot(x,m_poly*x + y_intercept_poly + dy_intercept_poly,\"g\")\n",
    "plt.plot(x,m_poly*x + y_intercept_poly - dy_intercept_poly,\"b\")"
   ]
  },
  {
   "cell_type": "markdown",
   "metadata": {},
   "source": [
    "### Linear Regression"
   ]
  },
  {
   "cell_type": "code",
   "execution_count": 55,
   "metadata": {},
   "outputs": [
    {
     "data": {
      "text/plain": [
       "[<matplotlib.lines.Line2D at 0x95ec4a8>]"
      ]
     },
     "execution_count": 55,
     "metadata": {},
     "output_type": "execute_result"
    },
    {
     "data": {
      "image/png": "[encoded data removed]",
      "text/plain": [
       "<matplotlib.figure.Figure at 0x95ec0b8>"
      ]
     },
     "metadata": {},
     "output_type": "display_data"
    }
   ],
   "source": [
    "from scipy.stats import linregress\n",
    "from scipy import stats\n",
    "plt.plot(x,y,\".\")\n",
    "\n",
    "regresfit = linregress(x,y)\n",
    "slope, intercept, r_value, p_value, std_err = stats.linregress(x, y) # Gets the values we want from linregress.\n",
    "plt.plot(x, intercept + slope*x)"
   ]
  },
  {
   "cell_type": "markdown",
   "metadata": {},
   "source": [
    "### Curve Fits"
   ]
  },
  {
   "cell_type": "code",
   "execution_count": 63,
   "metadata": {},
   "outputs": [
    {
     "data": {
      "text/plain": [
       "[<matplotlib.lines.Line2D at 0x9677cc0>]"
      ]
     },
     "execution_count": 63,
     "metadata": {},
     "output_type": "execute_result"
    },
    {
     "data": {
      "image/png": "[encoded data removed]",
      "text/plain": [
       "<matplotlib.figure.Figure at 0x8bc3390>"
      ]
     },
     "metadata": {},
     "output_type": "display_data"
    }
   ],
   "source": [
    "from scipy.optimize import curve_fit\n",
    "\n",
    "def func(x, a, b): # The function you believet should fit the curve\n",
    "    return x*a + b\n",
    "\n",
    "y_curve = func(x, m, c)\n",
    "\n",
    "parameters, covariance = curve_fit(func, x, y_curve)\n",
    "parameters\n",
    "\n",
    "ycurve_fit = func(x, *parameters) \n",
    "\n",
    "plt.plot(x,y,\".\")\n",
    "plt.plot(x,ycurve_fit)\n",
    "plt.plot(x,y)"
   ]
  },
  {
   "cell_type": "markdown",
   "metadata": {},
   "source": [
    "## Part 4: Fitting Projectile Motion Data\n",
    "\n",
    "1.  Generate some 1D projectile motion data.  You are encouraged to use the function provided in Weekly Session 2. \n",
    "\n",
    "2. Add some \"noise\" to the data with a random variable. Plot the original function (without noise) and the noisy \"data\" with the scatter() function.  Use some of the tips/tricks on modifying scatter plots that are linked in Weekly Session 2.\n",
    "3. Note that you have two plots to make - $x$ vs. $t$ and $v$ vs. $t$. Use this [link](https://matplotlib.org/gallery/subplots_axes_and_figures/subplot.html#sphx-glr-gallery-subplots-axes-and-figures-subplot-py) to learn how to make subplots.\n",
    "\n",
    "4. Perform a curve fit to your noisy \"data\" and anaylze the error in the fit (i.e. the difference between the fit result and the original (noiseless) function. Compare the fit parameters to your original parameters using the standard deviation in the fit parameters. How close does the fit get to your original parameters? Repeat the analysis to generate new random data and compare again.\n",
    "\n",
    "### Your solution to Part 4:\n",
    "-----------------------------------------------------------------------------------------------"
   ]
  },
  {
   "cell_type": "code",
   "execution_count": 77,
   "metadata": {},
   "outputs": [
    {
     "ename": "NameError",
     "evalue": "name 'linspace' is not defined",
     "output_type": "error",
     "traceback": [
      "\u001b[1;31m---------------------------------------------------------------------------\u001b[0m",
      "\u001b[1;31mNameError\u001b[0m                                 Traceback (most recent call last)",
      "\u001b[1;32m<ipython-input-77-baaa09416087>\u001b[0m in \u001b[0;36m<module>\u001b[1;34m()\u001b[0m\n\u001b[0;32m     10\u001b[0m     \u001b[1;32mreturn\u001b[0m \u001b[0mv_i\u001b[0m\u001b[1;33m+\u001b[0m\u001b[0ma\u001b[0m\u001b[1;33m*\u001b[0m\u001b[0mt\u001b[0m\u001b[1;33m\u001b[0m\u001b[0m\n\u001b[0;32m     11\u001b[0m \u001b[1;33m\u001b[0m\u001b[0m\n\u001b[1;32m---> 12\u001b[1;33m \u001b[0mt\u001b[0m \u001b[1;33m=\u001b[0m \u001b[0mlinspace\u001b[0m\u001b[1;33m(\u001b[0m\u001b[1;36m0\u001b[0m\u001b[1;33m,\u001b[0m\u001b[1;36m10\u001b[0m\u001b[1;33m,\u001b[0m\u001b[1;36m100\u001b[0m\u001b[1;33m)\u001b[0m\u001b[1;33m\u001b[0m\u001b[0m\n\u001b[0m\u001b[0;32m     13\u001b[0m \u001b[0my_pos\u001b[0m \u001b[1;33m=\u001b[0m \u001b[0mfunc_pos\u001b[0m\u001b[1;33m(\u001b[0m\u001b[0mt\u001b[0m\u001b[1;33m,\u001b[0m \u001b[1;33m-\u001b[0m\u001b[1;36m9.8\u001b[0m\u001b[1;33m,\u001b[0m \u001b[1;36m32\u001b[0m\u001b[1;33m,\u001b[0m \u001b[1;36m157\u001b[0m\u001b[1;33m)\u001b[0m \u001b[1;31m# y_pos is the y coordinate\u001b[0m\u001b[1;33m\u001b[0m\u001b[0m\n\u001b[0;32m     14\u001b[0m \u001b[1;33m\u001b[0m\u001b[0m\n",
      "\u001b[1;31mNameError\u001b[0m: name 'linspace' is not defined"
     ]
    }
   ],
   "source": [
    "def position(t, a, v_i=0, x_i=0): # Function that gives the real trendline\n",
    "    x=x_i+v_i*t+0.5*a*t**2\n",
    "    v=v_i+a*t\n",
    "    return x,v\n",
    "\n",
    "def func_pos(t, a, v_i, x_i): # Function that returns the position\n",
    "    return x_i+v_i*t+0.5*a*t**2\n",
    "\n",
    "def func_v(t, a, v_i): # Function that returns the velocity\n",
    "    return v_i+a*t\n",
    "\n",
    "t = linspace(0,10,100)\n",
    "y_pos = func_pos(t, -9.8, 32, 157) # y_pos is the y coordinate\n",
    "\n",
    "ydata = y_pos * (1.0 + 0.1*np.random.normal(size=len(t)))\n",
    "\n",
    "plt.plot(t,ydata,\".\")"
   ]
  },
  {
   "cell_type": "markdown",
   "metadata": {
    "collapsed": true
   },
   "source": [
    "## Post lab questions\n",
    "\n",
    "Describe briefly Millikan's experiment in your own words.  Be sure to explain these two main points.\n",
    "\n",
    "1.  What is $\\nu$, and why is it the independent variable in the experiment?  Did Millikan use $\\nu$ in the           visible, infrared, or ultraviolet spectrum?  Here is a [reference](http://hyperphysics.phy-astr.gsu.edu/hbase/ems3.html) for light energies.\n",
    "    \n",
    "2.  What does $V$ measure, and why is it the dependent variable in the experiment?  \n",
    "-----------------------------------------------------------------------------------------------"
   ]
  },
  {
   "cell_type": "markdown",
   "metadata": {},
   "source": [
    "## With any remaining time \n",
    "\n",
    "* Play with \"tricking out\" your plots using the matplotlib gallery - which is one of my favorite places on the interwebs. Click on the [link](https://matplotlib.org/gallery/lines_bars_and_markers/scatter_with_legend.html#sphx-glr-gallery-lines-bars-and-markers-scatter-with-legend-py) and use it as a guide to modify your scatter plot.  Once you're done with that, play with the markers as well - you can change their shape! [link](https://matplotlib.org/gallery/lines_bars_and_markers/scatter_symbol.html#sphx-glr-gallery-lines-bars-and-markers-scatter-symbol-py)\n",
    "\n",
    "* Work on HW6 - which includes finishing all of the exercises in Weekly Session 2"
   ]
  }
 ],
 "metadata": {
  "kernelspec": {
   "display_name": "Python 3",
   "language": "python",
   "name": "python3"
  },
  "language_info": {
   "codemirror_mode": {
    "name": "ipython",
    "version": 3
   },
   "file_extension": ".py",
   "mimetype": "text/x-python",
   "name": "python",
   "nbconvert_exporter": "python",
   "pygments_lexer": "ipython3",
   "version": "3.4.5"
  }
 },
 "nbformat": 4,
 "nbformat_minor": 1
}
